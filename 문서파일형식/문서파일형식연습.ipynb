{
 "cells": [
  {
   "cell_type": "markdown",
   "metadata": {},
   "source": [
    "### JSON 파일을 이용한 파일 입출력 예제\n",
    "json(JavaScript Object Notation)은 자바스크립트에서 사용하는\n",
    "객체 표현 방법을 기반으로 한 경량 데이터 교환 형식\n",
    "JSON은 텍스트 형식으로 되어 있어 사람이 쉽게 읽고 쓸 수 있으면서\n",
    "기계가 쉽게 분석하고 생성할 수 있음\n",
    "python에서 json을 다루기 위한 모듈인 json이 제공됨\n",
    "\n",
    " 동영상 강의 https://youtu.be/Ig0iDMKFr5w?list=PLpzDq-W37heRclYB7FYI_WoXE2N-7zSl5"
   ]
  },
  {
   "cell_type": "code",
   "execution_count": 1,
   "metadata": {},
   "outputs": [
    {
     "name": "stdout",
     "output_type": "stream",
     "text": [
      "{'name': 'Alice', 'age': 30, 'jk': ['pizza', 'pasta']}\n",
      "<class 'dict'>\n"
     ]
    }
   ],
   "source": [
    "#json파일을 읽어 dict로 변환\n",
    "\n",
    "import json\n",
    "\n",
    "with open('sample.json','r') as f:\n",
    "    data =json.load(f) #읽어들인 json파일을 python으로 일어들여서 dict로 변환\n",
    "\n",
    "print(data)\n",
    "print(type(data))"
   ]
  },
  {
   "cell_type": "code",
   "execution_count": 2,
   "metadata": {},
   "outputs": [],
   "source": [
    "#python에서 만든 dict를 json으로 변환\n",
    "\n",
    "import json\n",
    "\n",
    "#dict형식으로 자료를 만든다\n",
    "data = {\n",
    "    \"Name\":\"Bob\",\n",
    "    \"age\":25,\n",
    "    \"favorite_food\":[\"hamburger\",\"fries\"]\n",
    "}\n",
    "\n",
    "#위 자료를 json으로 변환\n",
    "with open('dict_to_json.json','w') as f:\n",
    "    json.dump(data, f)"
   ]
  },
  {
   "cell_type": "markdown",
   "metadata": {},
   "source": [
    "### XML형식\n",
    "XML(Extensible Markup Language)은 데이터를 저장하고 전송하기 위한 마크업 언어로써 데이터를 계층적인 구조로 표현하며, 태그와 속성을 이용하여 데이터를 기술\n",
    "python에서는 XML을 다루기 위한 모듈인 xml.etee.ElementTree가 재공됨"
   ]
  },
  {
   "cell_type": "code",
   "execution_count": 9,
   "metadata": {},
   "outputs": [
    {
     "name": "stdout",
     "output_type": "stream",
     "text": [
      "{'name': 'Alice', 'age': 30, 'favorite_foods': ['pizza', 'pasta']}\n",
      "<class 'dict'>\n"
     ]
    }
   ],
   "source": [
    "#xml을 불러와 dict로 변환\n",
    "\n",
    "import xml.etree.ElementTree as ET\n",
    "\n",
    "tree = ET.parse('sample.xml') #트리구조로 만들기\n",
    "root = tree.getroot() #최 상위 트리 정의\n",
    "\n",
    "data={}\n",
    "data ['name']=root.find('name').text\n",
    "data ['age']=int(root.find('age').text)\n",
    "data['favorite_foods']=[food.text for food in root.find('favorite_foods')]\n",
    "\n",
    "print(data)\n",
    "print(type(data))"
   ]
  },
  {
   "cell_type": "code",
   "execution_count": 11,
   "metadata": {},
   "outputs": [],
   "source": [
    "#dict를 xml로 변환\n",
    "\n",
    "import xml.etree.ElementTree as ET\n",
    "\n",
    "#dict를 만들고,\n",
    "data = {\n",
    "    'name': 'Bob', \n",
    "    'age': 25, \n",
    "    'favorite_foods': ['hamburger', 'fries']\n",
    "}\n",
    "\n",
    "#엘리번트를 만들어 구조화\n",
    "root = ET.Element('person')\n",
    "name = ET.SubElement(root, 'name')\n",
    "name.text = data['name']\n",
    "age = ET.SubElement(root,'age')\n",
    "age.text=str(data['age'])\n",
    "favorite_foods = ET.SubElement(root, 'favorite_foods')\n",
    "for food in data['favorite_foods']:\n",
    "    ET.SubElement(favorite_foods,'food').text = food\n",
    "\n",
    "tree = ET.ElementTree(root)\n",
    "tree.write('dic_to_xml.xml', encoding='utf-8', xml_declaration=True)\n"
   ]
  },
  {
   "cell_type": "markdown",
   "metadata": {},
   "source": [
    "### YAML 파일을 이용한 파일 입출력 예제\n",
    "YAML(YAML Ain't Markup Language)은 인간이 쉽게 일고 쓸 수 있는 데이터 직렬화 형식,\n",
    "들여쓰기와 콜론을 이용하여 데이터를 구조화하며, 다양한 데이터 타입을 지원\n",
    "python에서는 YAML을 다루기 위한 모듈인 PyYAML이 제공됨\n",
    "    > pip install pyyaml\n"
   ]
  },
  {
   "cell_type": "code",
   "execution_count": 2,
   "metadata": {},
   "outputs": [
    {
     "name": "stdout",
     "output_type": "stream",
     "text": [
      "{'name': 'Alice', 'age': 30, 'favorite_foods': ['pizza', 'pasta']}\n",
      "<class 'dict'>\n"
     ]
    }
   ],
   "source": [
    "# yaml을 dict로 변환\n",
    "\n",
    "import yaml\n",
    "\n",
    "with open('sample.yml','r') as f:\n",
    "    data = yaml.safe_load(f)\n",
    "\n",
    "print(data)\n",
    "print(type(data))\n"
   ]
  },
  {
   "cell_type": "code",
   "execution_count": 3,
   "metadata": {},
   "outputs": [],
   "source": [
    "# dict를 yaml로 내보내기\n",
    "\n",
    "import yaml\n",
    "\n",
    "#dict\n",
    "data = {\n",
    "    'name': 'Bob', \n",
    "    'age': 25, \n",
    "    'favorite_foods': ['hamburger', 'fries']\n",
    "}\n",
    "\n",
    "with open('dict_to_yaml.yml', 'w') as f:\n",
    "    yaml.safe_dump(data, f)\n",
    "\n"
   ]
  },
  {
   "cell_type": "markdown",
   "metadata": {},
   "source": [
    "### Properties 파일을 이용한 파일 입출력 예제\n",
    "Properties 파일은 키와 값으로 이루어진 텍스트 파일, 주로 프로그램 설정 정보나 메시지 등을 저장하기 위해 사용.\n",
    "python에서는 Properties 파일을 다루기 위한 모듈인 configparser가 제공됨"
   ]
  },
  {
   "cell_type": "code",
   "execution_count": 5,
   "metadata": {},
   "outputs": [
    {
     "name": "stdout",
     "output_type": "stream",
     "text": [
      "{'name': 'Alice', 'age': 30, 'favorite_foods': ['pizza', ' pasta']}\n",
      "<class 'dict'>\n"
     ]
    }
   ],
   "source": [
    "# properties파일 가져오기\n",
    "\n",
    "import configparser\n",
    "\n",
    "config = configparser.ConfigParser()\n",
    "config.read('sample.properties')\n",
    "\n",
    "data = {}\n",
    "data['name'] = config.get('DEFAULT','name')\n",
    "data['age'] = config.getint('DEFAULT','age')\n",
    "data['favorite_foods']=config.get('DEFAULT', 'favorite_foods').split(',')\n",
    "\n",
    "print(data)\n",
    "print(type(data))"
   ]
  },
  {
   "cell_type": "code",
   "execution_count": 11,
   "metadata": {},
   "outputs": [],
   "source": [
    "# dict를 properties로 내보내기\n",
    "\n",
    "import configparser\n",
    "\n",
    "data = {\n",
    "    'name': 'Bob', \n",
    "    'age': 25, \n",
    "    'favorite_foods': ['hamburger', 'fries']\n",
    "}\n",
    "\n",
    "config = configparser.ConfigParser()\n",
    "config['Person'] = data\n",
    "\n",
    "with open('dict_to_properties.properties','w') as f:\n",
    "    config.write(f)\n"
   ]
  },
  {
   "cell_type": "markdown",
   "metadata": {},
   "source": [
    "### CSV 파일을 이용한 입출력 예제\n",
    "CSV 파일은 쉼표(,)로 구분된 텍스트 파일로, 행과 열로 이루어진 2차원 데이터를 저장하기 위해 사용\n",
    "파이썬에서는 CSV 파일을 다루기 위한 모듈인 csv가 제공됨"
   ]
  },
  {
   "cell_type": "code",
   "execution_count": 6,
   "metadata": {},
   "outputs": [
    {
     "name": "stdout",
     "output_type": "stream",
     "text": [
      "[{'name': 'Alice', 'age': '30', 'favorite_foods': 'pizza'}, {'name': 'Bob', 'age': '25', 'favorite_foods': 'hmburger'}]\n",
      "<class 'list'>\n"
     ]
    }
   ],
   "source": [
    "# CSV파일 자져오기\n",
    "\n",
    "import csv\n",
    "\n",
    "with open('sample.csv','r', newline='') as f:\n",
    "    reader = csv.reader(f)\n",
    "    header = next(reader) #첫 행은 header\n",
    "    data = [dict(zip(header, row)) for row in reader]\n",
    "\n",
    "print(data)\n",
    "print(type(data))"
   ]
  },
  {
   "cell_type": "code",
   "execution_count": 14,
   "metadata": {},
   "outputs": [],
   "source": [
    "# dict을 csv로 내보내기\n",
    "\n",
    "import csv\n",
    "\n",
    "data = [\n",
    "    {'name': 'Alice', 'age': '30', 'favorite_foods': ['pizza','pasta']}, \n",
    "    {'name': 'Bob', 'age': '25', 'favorite_foods': ['hmburger', 'fride']},\n",
    "    {'name': 'jknam', 'age': '55', 'favorite_foods': ['hajangkuk','bulgoki']}\n",
    "]\n",
    "\n",
    "with open('dict_to_csv.csv', 'w', newline='') as f:\n",
    "    writer = csv.writer(f)\n",
    "    writer.writerow([\"name\",\"age\",\"favorite_foods\"])\n",
    "    for row in data:\n",
    "        writer.writerow([row[\"name\"], row[\"age\"], \",\".join(row[\"favorite_foods\"])])\n",
    "\n"
   ]
  },
  {
   "cell_type": "markdown",
   "metadata": {},
   "source": [
    "### 엑셀 파일 합치기\n",
    "엑셀 파일에서 시트를 두 개 읽어서 하나의 시트에 데이터를 합치고, 그 결과를 다시 새로운 엑셀 파일에 저장하기\n",
    "pip install openpyxl"
   ]
  },
  {
   "cell_type": "code",
   "execution_count": 15,
   "metadata": {},
   "outputs": [],
   "source": [
    "import openpyxl\n",
    "\n",
    "# 엑셀파일 열기\n",
    "wb1 = openpyxl.load_workbook('sample1.xlsx')\n",
    "wb2 = openpyxl.load_workbook('sample2.xlsx')\n",
    "\n",
    "# 시트선택\n",
    "sheet1 = wb1['sheet1']\n",
    "sheet2 = wb2['sheet1']\n",
    "\n",
    "# 데이터 읽기\n",
    "data1 = []\n",
    "for row in sheet1.iter_rows(min_row=2, values_only=True):\n",
    "    data1.append(row)\n",
    "# print(data1)\n",
    "\n",
    "data2 = []\n",
    "for row in sheet2.iter_rows(min_row=2, values_only=True):\n",
    "    data2.append(row)\n",
    "# print(data2)\n",
    "\n",
    "# 데이터 합치기\n",
    "merged_data = data1 + data2\n",
    "# print(merged_data)\n",
    "# 새로운 엑셀 파일 생성\n",
    "wb3 = openpyxl.Workbook()\n",
    "sheet3 = wb3.active\n",
    "\n",
    "#데이터 쓰기\n",
    "sheet3.append(['Name','age','Favorite Food'])\n",
    "for row in merged_data:\n",
    "    sheet3.append(row)\n",
    "\n",
    "\n",
    "# 새로운 엑셀 파일 저장\n",
    "wb3.save('sample_merged.xlsx')\n",
    "\n"
   ]
  }
 ],
 "metadata": {
  "kernelspec": {
   "display_name": "venv",
   "language": "python",
   "name": "python3"
  },
  "language_info": {
   "codemirror_mode": {
    "name": "ipython",
    "version": 3
   },
   "file_extension": ".py",
   "mimetype": "text/x-python",
   "name": "python",
   "nbconvert_exporter": "python",
   "pygments_lexer": "ipython3",
   "version": "3.8.8"
  }
 },
 "nbformat": 4,
 "nbformat_minor": 2
}
